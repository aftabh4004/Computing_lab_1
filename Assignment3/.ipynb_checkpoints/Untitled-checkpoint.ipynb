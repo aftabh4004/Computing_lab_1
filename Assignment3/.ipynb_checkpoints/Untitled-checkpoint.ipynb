{
 "cells": [
  {
   "cell_type": "code",
   "execution_count": 1,
   "id": "5394e40e",
   "metadata": {},
   "outputs": [],
   "source": [
    "import random"
   ]
  },
  {
   "cell_type": "code",
   "execution_count": 6,
   "id": "55f1b450",
   "metadata": {},
   "outputs": [],
   "source": [
    "file = open(\"sampleinput.txt\", \"w\")\n",
    "n = 10\n",
    "k = 500\n",
    "file.write(\"{:d} \".format(n))\n",
    "file.write(\"{:d}\\n\".format(k))\n",
    "for i in range(n):\n",
    "    rl = []\n",
    "    ai = random.uniform(0, 0.5)\n",
    "    rl.append(ai)\n",
    "    rl = rl + [random.randrange(1, 10, 1) for i in range(2*(i + 1) + 1)]\n",
    "    s = \"\"\n",
    "    for item in rl[:-1]:\n",
    "        s += str(item) + \",\"\n",
    "    s += str(rl[-1])\n",
    "    s += \"\\n\"\n",
    "    file.write(s)\n",
    "file.close()"
   ]
  },
  {
   "cell_type": "code",
   "execution_count": null,
   "id": "45d36ac9",
   "metadata": {},
   "outputs": [],
   "source": []
  }
 ],
 "metadata": {
  "kernelspec": {
   "display_name": "Python 3 (ipykernel)",
   "language": "python",
   "name": "python3"
  },
  "language_info": {
   "codemirror_mode": {
    "name": "ipython",
    "version": 3
   },
   "file_extension": ".py",
   "mimetype": "text/x-python",
   "name": "python",
   "nbconvert_exporter": "python",
   "pygments_lexer": "ipython3",
   "version": "3.9.12"
  }
 },
 "nbformat": 4,
 "nbformat_minor": 5
}
